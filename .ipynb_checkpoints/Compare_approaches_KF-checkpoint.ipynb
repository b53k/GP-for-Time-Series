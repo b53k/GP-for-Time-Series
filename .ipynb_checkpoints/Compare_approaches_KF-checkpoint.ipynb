{
 "cells": [
  {
   "cell_type": "code",
   "execution_count": null,
   "metadata": {},
   "outputs": [],
   "source": [
    "import numpy as np\n",
    "import matplotlib.pyplot as plt\n",
    "import scipy\n",
    "import copy\n",
    "import time\n",
    "\n",
    "\n",
    "\n",
    "np.random.seed(2)\n",
    "n_steps = 200        #100\n",
    "dt = 0.2            # 0.15\n",
    "time_ = np.linspace(0, n_steps*dt, n_steps)\n",
    "Total_time = n_steps * dt - 1\n",
    "N = 22 # number of random points\n",
    "M = 100 # number of test points\n",
    "\n",
    "sigma_2 = 0.1 ** 2\n",
    "\n",
    "def process(t, sigma_2):\n",
    "    noise = np.random.normal(0, np.sqrt(sigma_2), size=t.shape)\n",
    "    y = np.sin(t) + 2*np.exp(-t**2/2) + np.exp(-t**3/2) - np.cos(3*t/2)\n",
    "    return y+noise\n",
    "\n",
    "y = np.sin(time_) + 2*np.exp(-time_**2/2) + np.exp(-time_**3/2) - np.cos(3*time_)\n",
    "\n",
    "#to = np.random.choice(time_, size = N, replace = False).reshape(-1,1)\n",
    "to = np.linspace(0, Total_time, N).reshape(-1,1)\n",
    "to = np.sort(to)\n",
    "yo = process(to, sigma_2)\n",
    "\n",
    "# test points\n",
    "t_test = np.linspace(0, n_steps*dt, M).reshape(-1,1)\n",
    "tot2 = np.vstack([to, t_test])\n",
    "\n",
    "\n",
    "total_time = np.vstack([to, t_test])\n",
    "indices = np.argsort(total_time.flatten(), axis = -1)\n",
    "total_time = total_time[indices]\n",
    "TT = total_time.shape[0]\n",
    "\n",
    "\n",
    "T = total_time.reshape(-1)\n",
    "for i in range(len(T)):\n",
    "    if i == 0:\n",
    "        dt = 0\n",
    "    else:\n",
    "        dt = T[i] - T[i-1]\n",
    "\n",
    "    print (dt)"
   ]
  }
 ],
 "metadata": {
  "language_info": {
   "name": "python"
  }
 },
 "nbformat": 4,
 "nbformat_minor": 2
}
